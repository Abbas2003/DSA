{
 "cells": [
  {
   "cell_type": "markdown",
   "metadata": {},
   "source": [
    "# 🏆 LeetCode Problem: Fizz Buzz\n",
    "\n",
    "- **Problem Link**: [Fizz Buzz](https://leetcode.com/problems/fizz-buzz/)\n",
    "- **My Solution**: [Submission Link](https://leetcode.com/submissions/detail/1566961616/)\n",
    "\n",
    "---\n",
    "\n",
    "## 📝 Problem Statement\n",
    "\n",
    "Given an integer `n`, return a string array `answer` where:\n",
    "\n",
    "- `answer[i] == \"FizzBuzz\"` if `i` is divisible by **3 and 5**.\n",
    "- `answer[i] == \"Fizz\"` if `i` is divisible by **3**.\n",
    "- `answer[i] == \"Buzz\"` if `i` is divisible by **5**.\n",
    "- `answer[i] == str(i)` otherwise.\n",
    "\n",
    "---\n",
    "\n",
    "## 🧠 Approach\n",
    "\n",
    "### **🔹 Idea**\n",
    "1. **Iterate from 1 to `n`** and check divisibility conditions.\n",
    "2. **Use `if-elif-else` conditions**:\n",
    "   - If divisible by **both 3 and 5**, append `\"FizzBuzz\"`.\n",
    "   - If divisible by **3**, append `\"Fizz\"`.\n",
    "   - If divisible by **5**, append `\"Buzz\"`.\n",
    "   - Otherwise, append the **integer as a string**.\n",
    "3. **Return the final list**.\n",
    "\n",
    "---\n",
    "\n",
    "## **📊 Complexity Analysis**\n",
    "\n",
    "| Complexity Type  | Analysis  |\n",
    "|-----------------|-----------|\n",
    "| **Time Complexity**  | `O(n)` → We iterate once from `1` to `n`. |\n",
    "| **Space Complexity** | `O(n)` → Storing `n` elements in the result list. |\n",
    "\n",
    "---\n",
    "\n",
    "This approach efficiently solves the **Fizz Buzz** problem using a simple **iteration and condition-based logic**. 🚀"
   ]
  },
  {
   "cell_type": "code",
   "execution_count": 2,
   "metadata": {},
   "outputs": [
    {
     "name": "stdout",
     "output_type": "stream",
     "text": [
      "['1', '2', 'Fizz']\n",
      "['1', '2', 'Fizz', '4', 'Buzz', 'Fizz', '7', '8', 'Fizz', 'Buzz', '11', 'Fizz', '13', '14', 'FizzBuzz']\n"
     ]
    }
   ],
   "source": [
    "def fizzBuzz(n):\n",
    "        output=[]\n",
    "        for i in range(1,n+1):\n",
    "            if i % 3 == 0:\n",
    "                ans = \"Fizz\"\n",
    "                if i % 5 == 0:\n",
    "                    ans += \"Buzz\"\n",
    "            elif i % 5 == 0:\n",
    "                ans = \"Buzz\"\n",
    "            else:\n",
    "                ans = str(i)\n",
    "            output.append(ans)\n",
    "        return output\n",
    "\n",
    "print(fizzBuzz(3)) \n",
    "print(fizzBuzz(15)) "
   ]
  },
  {
   "cell_type": "markdown",
   "metadata": {},
   "source": [
    "# 🏆 LeetCode Problem: Two Sum\n",
    "\n",
    "- **Problem Link**: [Two Sum](https://leetcode.com/problems/two-sum/)\n",
    "- **My Solution**: [Submission Link](https://leetcode.com/submissions/detail/1567017900/)\n",
    "\n",
    "---\n",
    "\n",
    "## 📝 Problem Statement\n",
    "\n",
    "Given an array of integers `nums` and an integer `target`, return **indices** of the two numbers such that they add up to `target`.\n",
    "\n",
    "🔹 **Constraints:**\n",
    "- Each input has **exactly one solution**.\n",
    "- **Same element cannot be used twice**.\n",
    "- Return the **indices in any order**.\n",
    "\n",
    "---\n",
    "\n",
    "## 🧠 Approach\n",
    "\n",
    "### **🔹 Idea (Using HashMap)**\n",
    "1. **Use a dictionary (`hashmap`) to store seen numbers and their indices.**\n",
    "2. **Iterate through `nums`**:\n",
    "   - Compute `diff = target - nums[i]`.\n",
    "   - If `diff` already exists in `hashmap`, return `[index_of_diff, i]`.\n",
    "   - Otherwise, store `nums[i]` in `hashmap` with its index.\n",
    "3. **This ensures O(n) time complexity instead of O(n²) for brute force.**\n",
    "\n",
    "---\n",
    "\n",
    "## **📊 Complexity Analysis**\n",
    "\n",
    "| Complexity Type  | Analysis  |\n",
    "|-----------------|-----------|\n",
    "| **Time Complexity**  | `O(n)` → Single pass through `nums` storing elements in hashmap. |\n",
    "| **Space Complexity** | `O(n)` → Worst case, all `n` elements stored in hashmap. |\n",
    "\n",
    "---\n",
    "\n",
    "This **optimized HashMap approach** efficiently finds the solution in **linear time O(n)**, making it ideal for large inputs. 🚀"
   ]
  },
  {
   "cell_type": "code",
   "execution_count": 1,
   "metadata": {},
   "outputs": [
    {
     "name": "stdout",
     "output_type": "stream",
     "text": [
      "[0, 1]\n",
      "[1, 2]\n"
     ]
    }
   ],
   "source": [
    "from typing import List\n",
    "\n",
    "def twoSum(nums: List[int], target: int) -> List[int]:\n",
    "        h = {}\n",
    "\n",
    "        for i in range(len(nums)):\n",
    "            h[nums[i]] = i\n",
    "\n",
    "        for i in range(len(nums)):\n",
    "            y = target - nums[i]\n",
    "\n",
    "            if y in h and h[y] != i:\n",
    "                return [i, h[y]]\n",
    "\n",
    "\n",
    "print(twoSum([2,7,11,15], 9))\n",
    "print(twoSum([3,2,4], 6))"
   ]
  }
 ],
 "metadata": {
  "kernelspec": {
   "display_name": "Python 3",
   "language": "python",
   "name": "python3"
  },
  "language_info": {
   "codemirror_mode": {
    "name": "ipython",
    "version": 3
   },
   "file_extension": ".py",
   "mimetype": "text/x-python",
   "name": "python",
   "nbconvert_exporter": "python",
   "pygments_lexer": "ipython3",
   "version": "3.12.9"
  }
 },
 "nbformat": 4,
 "nbformat_minor": 2
}
