{
 "cells": [
  {
   "cell_type": "markdown",
   "metadata": {},
   "source": [
    "# 🏆 LeetCode Problem: Integer to Roman\n",
    "\n",
    "- Problem Link: https://leetcode.com/problems/integer-to-roman/\n",
    "- My proposed solution Link: https://leetcode.com/problems/integer-to-roman/solutions/6488729/integer-to-roman-by-kgdwj6oap4-5y8b\n",
    "\n",
    "## 📝 Problem Statement\n",
    "Given an integer, convert it to a **Roman numeral**.\n",
    "\n",
    "🔹 **Constraints:**  \n",
    "- `1 <= num <= 3999`\n",
    "\n",
    "🔹 **Roman Numeral Rules:**\n",
    "1. Use **largest possible values first** (Greedy approach).\n",
    "2. Handle **subtractive cases** (e.g., `4 → IV`, `9 → IX`).\n",
    "3. **No numeral can repeat more than 3 times in a row**.\n",
    "\n",
    "---\n",
    "\n",
    "## 🧠 Approach: Greedy Algorithm  \n",
    "\n",
    "### **🔹 Idea**\n",
    "1. **Sort numerals in descending order** (`M = 1000`, `CM = 900`, ... `I = 1`).\n",
    "2. **Iterate through each Roman numeral**:\n",
    "   - Find how many times it fits into `num` using `num // val`.\n",
    "   - Append that numeral `count` times.\n",
    "   - Reduce `num` by that amount (`num = num % val`).\n",
    "3. **Return the final Roman numeral string**.\n",
    "\n",
    "---\n",
    "\n",
    "## **📊 Complexity Summary Table**\n",
    "| Complexity Type | Analysis |\n",
    "|----------------|----------|\n",
    "| **Time Complexity** | `O(1)` → Fixed 13 iterations, independent of input size |\n",
    "| **Space Complexity** | `O(1)` → No extra memory usage apart from a few variables |"
   ]
  },
  {
   "cell_type": "code",
   "execution_count": 11,
   "metadata": {},
   "outputs": [],
   "source": [
    "# Solution\n",
    "def intToRoman(num: int) -> str:\n",
    "    symlist = [[\"I\",1],[\"IV\", 4],[\"V\",5],[\"IX\",9],[\"X\",10],[\"XL\",40],[\"L\",50],[\"XC\",90],[\"C\",100],[\"CD\",400],[\"D\",500],[\"CM\",900],[\"M\",1000]]\n",
    "\n",
    "    output = \"\"\n",
    "\n",
    "    for sys,val in reversed(symlist):\n",
    "        if num // val:\n",
    "            count = num // val\n",
    "            print(count)\n",
    "            output += (sys*count)\n",
    "            num = num % val\n",
    "        \n",
    "    return output"
   ]
  },
  {
   "cell_type": "code",
   "execution_count": 10,
   "metadata": {},
   "outputs": [
    {
     "name": "stdout",
     "output_type": "stream",
     "text": [
      "1\n",
      "1\n",
      "1\n",
      "1\n",
      "MCMXCIV\n"
     ]
    }
   ],
   "source": [
    "num = 1994\n",
    "print(intToRoman(num))"
   ]
  }
 ],
 "metadata": {
  "kernelspec": {
   "display_name": "base",
   "language": "python",
   "name": "python3"
  },
  "language_info": {
   "codemirror_mode": {
    "name": "ipython",
    "version": 3
   },
   "file_extension": ".py",
   "mimetype": "text/x-python",
   "name": "python",
   "nbconvert_exporter": "python",
   "pygments_lexer": "ipython3",
   "version": "3.12.7"
  }
 },
 "nbformat": 4,
 "nbformat_minor": 2
}
