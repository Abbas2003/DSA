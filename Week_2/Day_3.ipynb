{
 "cells": [
  {
   "cell_type": "markdown",
   "metadata": {},
   "source": [
    "# 🏆 LeetCode Problem: Group Anagrams\n",
    "\n",
    "- **Problem Link:** [Group Anagrams](https://leetcode.com/problems/group-anagrams/)\n",
    "- **My Solution Link:** [My Submission](https://leetcode.com/problems/group-anagrams/submissions/1564161545/)\n",
    "\n",
    "## 📝 Problem Statement\n",
    "Given an array of strings, group the **anagrams** together.\n",
    "\n",
    "### 🔹 Constraints:\n",
    "- `1 <= strs.length <= 10^4`\n",
    "- `0 <= strs[i].length <= 100`\n",
    "- `strs[i]` consists of lowercase English letters.\n",
    "\n",
    "---\n",
    "\n",
    "## 🧠 Approach: HashMap + Sorting  \n",
    "\n",
    "### **🔹 Idea**\n",
    "1. **Sorting Trick**:  \n",
    "   - Each anagram has the **same sorted version** (e.g., `\"eat\"` and `\"tea\"` → `\"aet\"`).  \n",
    "   - Use a **HashMap** where the key is the **sorted version of a word**, and the value is a list of anagrams.  \n",
    "   \n",
    "2. **Steps to Solve:**  \n",
    "   - Iterate through each word.  \n",
    "   - Sort it and use it as a key in a dictionary.  \n",
    "   - Append the original word to the corresponding key.  \n",
    "   - Return the values of the HashMap as the final grouped anagrams.\n",
    "\n",
    "---\n",
    "\n",
    "## **📊 Complexity Summary Table**  \n",
    "\n",
    "| Complexity Type  | Analysis  |\n",
    "|-----------------|-----------|\n",
    "| **Time Complexity**  | `O(n * k log k)` → Sorting each word takes `O(k log k)`, and iterating over `n` words leads to `O(n * k log k)`. |\n",
    "| **Space Complexity** | `O(n * k)` → The dictionary stores all `n` words with their sorted keys, each of length `k`. |\n",
    "\n"
   ]
  },
  {
   "cell_type": "code",
   "execution_count": 3,
   "metadata": {},
   "outputs": [
    {
     "name": "stdout",
     "output_type": "stream",
     "text": [
      "[['eat', 'tea', 'ate'], ['tan', 'nat'], ['bat']]\n"
     ]
    }
   ],
   "source": [
    "def groupAnagrams(strs):\n",
    "        pair={} \n",
    "        for s in range(len(strs)): \n",
    "            sort=\"\".join(sorted(strs[s])) \n",
    "            if sort not in pair: \n",
    "                pair[sort]=[] \n",
    "            pair[sort].append(strs[s]) \n",
    "                                       \n",
    "                                       \n",
    "        res=[]\n",
    "        for key,val in pair.items():\n",
    "              res.append(val)\n",
    "        return res\n",
    "\n",
    "print(groupAnagrams([\"eat\", \"tea\", \"tan\", \"ate\", \"nat\", \"bat\"]))"
   ]
  }
 ],
 "metadata": {
  "kernelspec": {
   "display_name": "base",
   "language": "python",
   "name": "python3"
  },
  "language_info": {
   "codemirror_mode": {
    "name": "ipython",
    "version": 3
   },
   "file_extension": ".py",
   "mimetype": "text/x-python",
   "name": "python",
   "nbconvert_exporter": "python",
   "pygments_lexer": "ipython3",
   "version": "3.12.7"
  }
 },
 "nbformat": 4,
 "nbformat_minor": 2
}
