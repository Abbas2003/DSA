{
 "cells": [
  {
   "cell_type": "markdown",
   "metadata": {},
   "source": [
    "# 🏆 LeetCode Problem: Majority Element\n",
    "\n",
    "- **Problem Link**: [Majority Element](https://leetcode.com/problems/majority-element/)\n",
    "- **My Solution**: [Submission Link](https://leetcode.com/submissions/detail/1568125313/)\n",
    "\n",
    "---\n",
    "\n",
    "## 📝 Problem Statement\n",
    "\n",
    "Given an array `nums` of size `n`, return the **majority element**.\n",
    "\n",
    "🔹 **Majority Element Definition:**  \n",
    "- The element that appears **more than** `⌊ n/2 ⌋` times.\n",
    "- There **will always be one majority element** in the array.\n",
    "\n",
    "🔹 **Constraints:**  \n",
    "- `n == nums.length`\n",
    "- `1 <= n <= 5 * 10^4`\n",
    "- `-10^9 <= nums[i] <= 10^9`\n",
    "\n",
    "---\n",
    "\n",
    "## 🧠 Approach: **Boyer-Moore Voting Algorithm**\n",
    "\n",
    "### **🔹 Idea**\n",
    "1. **Use a candidate variable (`majority`) and a counter (`count`).**\n",
    "2. **Iterate through `nums`**:\n",
    "   - If `count == 0`, assign `majority = nums[i]`.\n",
    "   - If `nums[i] == majority`, increment `count`, else decrement `count`.\n",
    "3. **Since the problem guarantees a majority element, `majority` will hold the correct value at the end.**\n",
    "\n",
    "\n",
    "---\n",
    "\n",
    "## **📊 Complexity Analysis**\n",
    "\n",
    "| Complexity Type  | Analysis  |\n",
    "|-----------------|-----------|\n",
    "| **Time Complexity**  | `O(n)` → Single pass through `nums` to find the majority element. |\n",
    "| **Space Complexity** | `O(1)` → Only a few extra variables (`majority`, `count`) are used. |\n",
    "\n",
    "---\n",
    "\n",
    "### 🔥 **Why Boyer-Moore Voting Algorithm?**\n",
    "✅ **Optimal solution** (O(n) time & O(1) space)  \n",
    "✅ **No extra memory** (unlike hashmap or sorting approaches)  \n",
    "✅ **Guaranteed correctness** because a majority element **must** exist  \n",
    "\n",
    "This makes it the **most efficient** approach for this problem. 🚀"
   ]
  },
  {
   "cell_type": "code",
   "execution_count": 4,
   "metadata": {},
   "outputs": [
    {
     "name": "stdout",
     "output_type": "stream",
     "text": [
      "2\n"
     ]
    }
   ],
   "source": [
    "from typing import List\n",
    "\n",
    "def majorityElement(nums: List[int]) -> int:\n",
    "        ans = -1\n",
    "        count = 0\n",
    "\n",
    "        for num in nums:\n",
    "            if count == 0:\n",
    "                ans = num\n",
    "\n",
    "            if ans == num:\n",
    "                count += 1\n",
    "            else:\n",
    "                count -= 1\n",
    "            \n",
    "        return ans\n",
    "\n",
    "print(majorityElement([2,2,1,1,1,2,2]))"
   ]
  }
 ],
 "metadata": {
  "kernelspec": {
   "display_name": "Python 3",
   "language": "python",
   "name": "python3"
  },
  "language_info": {
   "codemirror_mode": {
    "name": "ipython",
    "version": 3
   },
   "file_extension": ".py",
   "mimetype": "text/x-python",
   "name": "python",
   "nbconvert_exporter": "python",
   "pygments_lexer": "ipython3",
   "version": "3.12.9"
  }
 },
 "nbformat": 4,
 "nbformat_minor": 2
}
