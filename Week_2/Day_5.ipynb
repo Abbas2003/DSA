{
 "cells": [
  {
   "cell_type": "markdown",
   "metadata": {},
   "source": [
    "# 🏆 LeetCode Problem: Majority Element\n",
    "\n",
    "- **Problem Link**: [Majority Element](https://leetcode.com/problems/majority-element/)\n",
    "- **My Solution**: [Submission Link](https://leetcode.com/submissions/detail/1568125313/)\n",
    "\n",
    "---\n",
    "\n",
    "## 📝 Problem Statement\n",
    "\n",
    "Given an array `nums` of size `n`, return the **majority element**.\n",
    "\n",
    "🔹 **Majority Element Definition:**  \n",
    "- The element that appears **more than** `⌊ n/2 ⌋` times.\n",
    "- There **will always be one majority element** in the array.\n",
    "\n",
    "🔹 **Constraints:**  \n",
    "- `n == nums.length`\n",
    "- `1 <= n <= 5 * 10^4`\n",
    "- `-10^9 <= nums[i] <= 10^9`\n",
    "\n",
    "---\n",
    "\n",
    "## 🧠 Approach: **Boyer-Moore Voting Algorithm**\n",
    "\n",
    "### **🔹 Idea**\n",
    "1. **Use a candidate variable (`majority`) and a counter (`count`).**\n",
    "2. **Iterate through `nums`**:\n",
    "   - If `count == 0`, assign `majority = nums[i]`.\n",
    "   - If `nums[i] == majority`, increment `count`, else decrement `count`.\n",
    "3. **Since the problem guarantees a majority element, `majority` will hold the correct value at the end.**\n",
    "\n",
    "\n",
    "---\n",
    "\n",
    "## **📊 Complexity Analysis**\n",
    "\n",
    "| Complexity Type  | Analysis  |\n",
    "|-----------------|-----------|\n",
    "| **Time Complexity**  | `O(n)` → Single pass through `nums` to find the majority element. |\n",
    "| **Space Complexity** | `O(1)` → Only a few extra variables (`majority`, `count`) are used. |\n",
    "\n",
    "---\n",
    "\n",
    "### 🔥 **Why Boyer-Moore Voting Algorithm?**\n",
    "✅ **Optimal solution** (O(n) time & O(1) space)  \n",
    "✅ **No extra memory** (unlike hashmap or sorting approaches)  \n",
    "✅ **Guaranteed correctness** because a majority element **must** exist  \n",
    "\n",
    "This makes it the **most efficient** approach for this problem. 🚀"
   ]
  },
  {
   "cell_type": "code",
   "execution_count": 4,
   "metadata": {},
   "outputs": [
    {
     "name": "stdout",
     "output_type": "stream",
     "text": [
      "2\n"
     ]
    }
   ],
   "source": [
    "from typing import List\n",
    "\n",
    "def majorityElement(nums: List[int]) -> int:\n",
    "        ans = -1\n",
    "        count = 0\n",
    "\n",
    "        for num in nums:\n",
    "            if count == 0:\n",
    "                ans = num\n",
    "\n",
    "            if ans == num:\n",
    "                count += 1\n",
    "            else:\n",
    "                count -= 1\n",
    "            \n",
    "        return ans\n",
    "\n",
    "print(majorityElement([2,2,1,1,1,2,2]))"
   ]
  },
  {
   "cell_type": "markdown",
   "metadata": {},
   "source": [
    "## 🏆 LeetCode Problem: Isomorphic Strings\n",
    "\n",
    "- **Problem Link:** [Isomorphic Strings](https://leetcode.com/problems/isomorphic-strings/)\n",
    "- **My Solution Link:** [Submission](https://leetcode.com/problems/isomorphic-strings/submissions/1568470745/)\n",
    "\n",
    "---\n",
    "\n",
    "## 📝 Problem Statement  \n",
    "Given two strings `s` and `t`, determine if they are **isomorphic**.\n",
    "\n",
    "🔹 **Definition of Isomorphic Strings:**  \n",
    "- A string's characters can be replaced to get the other string.\n",
    "- The mapping must be **one-to-one** and **consistent**.\n",
    "\n",
    "🔹 **Constraints:**  \n",
    "- `1 <= s.length, t.length <= 5 * 10^4`\n",
    "- `s` and `t` consist of any valid ASCII characters.\n",
    "\n",
    "---\n",
    "\n",
    "## 🧠 Approach: Hash Map (Dictionary) + Hash Set\n",
    "\n",
    "### **🔹 Idea**\n",
    "1. Use a **dictionary `h`** to map each character from `s` to `t`.\n",
    "2. Use a **set `values`** to keep track of already mapped characters from `t`.\n",
    "3. Iterate through the string `s`:\n",
    "   - If the character is not in `h`, check if `t[i]` is already mapped.\n",
    "   - If it is already mapped, return **False** (because two different `s` characters cannot map to the same `t` character).\n",
    "   - Otherwise, store the mapping `s[i] → t[i]` and add `t[i]` to `values`.\n",
    "4. If `s[i]` is already mapped, check if it maps correctly to `t[i]`. If not, return **False**.\n",
    "5. If the loop completes without conflict, return **True**.\n",
    "\n",
    "---\n",
    "\n",
    "## **📊 Complexity Summary Table**\n",
    "| Complexity Type | Analysis |\n",
    "|----------------|----------|\n",
    "| **Time Complexity** | `O(n)` → We iterate through `s` once, where `n` is the length of `s`. |\n",
    "| **Space Complexity** | `O(1)` → Since there are at most 256 unique ASCII characters, the dictionary and set store at most `O(1)` extra space. |\n",
    "\n",
    "---\n",
    "\n",
    "This approach efficiently checks if the given strings are **isomorphic** using a **dictionary + set-based approach**. 🚀  "
   ]
  },
  {
   "cell_type": "code",
   "execution_count": 6,
   "metadata": {},
   "outputs": [
    {
     "name": "stdout",
     "output_type": "stream",
     "text": [
      "True\n",
      "False\n"
     ]
    }
   ],
   "source": [
    "def isIsomorphic(s: str, t: str) -> bool:\n",
    "        h = {}\n",
    "        values = set()\n",
    "\n",
    "        for i, char in enumerate(s):\n",
    "            if char not in h:\n",
    "                if t[i] in values:\n",
    "                    return False\n",
    "                h[char] = t[i]\n",
    "                values.add(t[i])\n",
    "            else:\n",
    "                if h[char] != t[i]:\n",
    "                    return False\n",
    "\n",
    "        return True\n",
    "\n",
    "print(isIsomorphic(\"egg\", \"add\"))\n",
    "print(isIsomorphic(\"foo\", \"bar\"))"
   ]
  }
 ],
 "metadata": {
  "kernelspec": {
   "display_name": "Python 3",
   "language": "python",
   "name": "python3"
  },
  "language_info": {
   "codemirror_mode": {
    "name": "ipython",
    "version": 3
   },
   "file_extension": ".py",
   "mimetype": "text/x-python",
   "name": "python",
   "nbconvert_exporter": "python",
   "pygments_lexer": "ipython3",
   "version": "3.12.9"
  }
 },
 "nbformat": 4,
 "nbformat_minor": 2
}
