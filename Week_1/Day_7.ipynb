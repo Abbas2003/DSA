{
 "cells": [
  {
   "cell_type": "markdown",
   "metadata": {},
   "source": [
    "# 🏆 LeetCode Problem: Add Binary\n",
    "\n",
    "https://leetcode.com/problems/add-binary/\n",
    "\n",
    "## 📝 Problem Statement\n",
    "Given two binary strings `a` and `b`, return their sum as a **binary string**.\n",
    "\n",
    "🔹 **Constraints:**\n",
    "- `1 <= a.length, b.length <= 10^4`\n",
    "- `a` and `b` contain only `'0'` and `'1'`.\n",
    "- `a` and `b` **do not contain leading zeros** except for `\"0\"` itself.\n",
    "\n",
    "---\n",
    "\n",
    "## **🧠 Approach: Using Python's Built-in Binary Conversion**\n",
    "\n",
    "### **🔹 Idea**\n",
    "1. Convert **binary strings** `a` and `b` to **integers** using `int(a, 2)`.\n",
    "2. Add both integers.\n",
    "3. Convert the sum back to **binary string** using `bin(sum)`, and remove the `0b` prefix.\n",
    "\n",
    "This approach leverages Python’s **built-in binary handling**, making the solution concise and efficient.\n",
    "\n",
    "---\n",
    "\n",
    "## **📌 Summary Table**\n",
    "| **Operation**          | **Time Complexity** | **Space Complexity** |\n",
    "|-----------------------|------------------|------------------|\n",
    "| Binary to Integer Conversion | O(N + M) | O(1) |\n",
    "| Addition of Integers  | O(1) | O(1) |\n",
    "| Integer to Binary Conversion | O(log(S)) → O(N + M) | O(N + M) |\n",
    "| **Overall Complexity** | **O(N + M)** | **O(N + M)** |\n"
   ]
  },
  {
   "cell_type": "code",
   "execution_count": null,
   "metadata": {},
   "outputs": [],
   "source": [
    "# Solution\n",
    "def addBinary(a, b):\n",
    "        a_int = int(a, 2)\n",
    "        b_int = int(b, 2)\n",
    "        sum = a_int + b_int\n",
    "\n",
    "        return bin(sum)[2:]\n",
    "        "
   ]
  },
  {
   "cell_type": "code",
   "execution_count": 7,
   "metadata": {},
   "outputs": [
    {
     "name": "stdout",
     "output_type": "stream",
     "text": [
      "100\n"
     ]
    }
   ],
   "source": [
    "a = \"11\"\n",
    "b = \"1\"\n",
    "\n",
    "print(addBinary(a,b))"
   ]
  }
 ],
 "metadata": {
  "kernelspec": {
   "display_name": "base",
   "language": "python",
   "name": "python3"
  },
  "language_info": {
   "codemirror_mode": {
    "name": "ipython",
    "version": 3
   },
   "file_extension": ".py",
   "mimetype": "text/x-python",
   "name": "python",
   "nbconvert_exporter": "python",
   "pygments_lexer": "ipython3",
   "version": "3.12.7"
  }
 },
 "nbformat": 4,
 "nbformat_minor": 2
}
