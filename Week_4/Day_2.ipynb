{
 "cells": [
  {
   "cell_type": "markdown",
   "metadata": {},
   "source": [
    "# 🔢 Problem: Add Digits\n",
    "\n",
    "**Problem Link:** [LeetCode – Add Digits](https://leetcode.com/problems/add-digits)\n",
    "**My Submission:** [View my submission](https://leetcode.com/problems/add-digits/submissions/1640171545/)\n",
    "**Difficulty:** Easy\n",
    "**Tags:** Math, Simulation, Number Theory, Digital Root\n",
    "\n",
    "---\n",
    "\n",
    "## 📝 Problem Statement\n",
    "\n",
    "Given an integer `num`, repeatedly add all its digits until the result has only one digit, and return it.\n",
    "\n",
    "---\n",
    "\n",
    "## 🔍 Example\n",
    "\n",
    "```\n",
    "Input: num = 38\n",
    "Output: 2\n",
    "Explanation: The process is\n",
    "3 + 8 = 11\n",
    "1 + 1 = 2\n",
    "```\n",
    "\n",
    "---\n",
    "\n",
    "## ✅ Constraints\n",
    "\n",
    "* `0 <= num <= 2 * 10^9`\n",
    "\n",
    "---\n",
    "\n",
    "## 💡 Approach & Intuition\n",
    "\n",
    "There are two ways to solve this:\n",
    "\n",
    "### **1. Brute Force (Simulation):**\n",
    "\n",
    "Keep summing the digits using a loop until you get a single digit.\n",
    "\n",
    "### **2. Mathematical Approach (Digital Root):**\n",
    "\n",
    "Using the formula for digital root:\n",
    "\n",
    "```\n",
    "If num == 0 → return 0\n",
    "Else → return 1 + (num - 1) % 9\n",
    "```\n",
    "\n",
    "This formula is derived from modular arithmetic and gives a constant-time solution.\n",
    "\n",
    "---\n",
    "\n",
    "## 🧠 Algorithm Steps (for Brute Force)\n",
    "\n",
    "1. Loop until `num < 10` (i.e., it's a single digit).\n",
    "2. For each loop, calculate the sum of digits of `num`.\n",
    "3. Set `num` to the new sum.\n",
    "4. Return `num` when it's a single digit.\n",
    "\n",
    "---\n",
    "\n",
    "## 📈 Time & Space Complexity\n",
    "\n",
    "* **Time Complexity:** O(log n) – In worst case, digit sum is computed log(n) times.\n",
    "* **Space Complexity:** O(1) – No extra space used."
   ]
  },
  {
   "cell_type": "code",
   "execution_count": 1,
   "metadata": {},
   "outputs": [
    {
     "name": "stdout",
     "output_type": "stream",
     "text": [
      "2\n"
     ]
    }
   ],
   "source": [
    "def addDigits(num: int) -> int:\n",
    "        while num >= 10:\n",
    "            total = 0\n",
    "            while num > 0:\n",
    "                total += num % 10\n",
    "                num //= 10\n",
    "            num = total\n",
    "        return num\n",
    "\n",
    "\n",
    "# Example usage:\n",
    "print(addDigits(38))  # Output: 2"
   ]
  },
  {
   "cell_type": "code",
   "execution_count": null,
   "metadata": {},
   "outputs": [],
   "source": []
  }
 ],
 "metadata": {
  "kernelspec": {
   "display_name": "Python 3",
   "language": "python",
   "name": "python3"
  },
  "language_info": {
   "codemirror_mode": {
    "name": "ipython",
    "version": 3
   },
   "file_extension": ".py",
   "mimetype": "text/x-python",
   "name": "python",
   "nbconvert_exporter": "python",
   "pygments_lexer": "ipython3",
   "version": "3.12.10"
  }
 },
 "nbformat": 4,
 "nbformat_minor": 2
}
