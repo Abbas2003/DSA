{
 "cells": [
  {
   "cell_type": "markdown",
   "metadata": {},
   "source": [
    "# 🚢 LeetCode Problem: Boats to Save People  \n",
    "\n",
    "- **Problem Link:** [Boats to Save People](https://leetcode.com/problems/boats-to-save-people/)  \n",
    "- **My Submission Link:** [My Solution](https://leetcode.com/problems/boats-to-save-people/submissions/1571794007/)  \n",
    "\n",
    "## 📝 Problem Statement  \n",
    "You are given an array `people` where `people[i]` represents the weight of the `i`-th person, and an integer `limit` represents the maximum weight a boat can carry.  \n",
    "\n",
    "Each boat can carry at most **two** people at the same time, provided their combined weight does not exceed `limit`.  \n",
    "\n",
    "Return the **minimum** number of boats needed to carry every person.  \n",
    "\n",
    "### **🔹 Constraints:**  \n",
    "- `1 <= people.length <= 5 * 10⁴`  \n",
    "- `1 <= people[i] <= limit <= 3 * 10⁴`  \n",
    "\n",
    "---\n",
    "\n",
    "## 🧠 Approach: Two Pointer Greedy Algorithm  \n",
    "\n",
    "### **🔹 Idea**\n",
    "1. **Sort the `people` array** in ascending order.\n",
    "2. Use **two pointers**:\n",
    "   - **Left pointer (`l`)** starts at the lightest person.\n",
    "   - **Right pointer (`r`)** starts at the heaviest person.\n",
    "3. Try to pair the lightest (`people[l]`) with the heaviest (`people[r]`):\n",
    "   - If their sum is within the limit → board them together.\n",
    "   - Otherwise, the heavier person (`r`) goes alone.\n",
    "4. **Move the pointers** accordingly:\n",
    "   - If both boarded, move both pointers (`l++`, `r--`).\n",
    "   - If only the heavier one boarded, move just `r--`.\n",
    "5. **Repeat until all people are in boats**.\n",
    "\n",
    "---\n",
    "\n",
    "## **📊 Complexity Summary Table**\n",
    "| Complexity Type | Analysis |\n",
    "|----------------|----------|\n",
    "| **Time Complexity** | `O(n log n)` → Sorting takes `O(n log n)`, two-pointer traversal takes `O(n)` |\n",
    "| **Space Complexity** | `O(1)` → No extra space used apart from variables |\n",
    "\n",
    "---\n",
    "\n",
    "### **🚀 Key Takeaways**\n",
    "✅ **Sorting + Two-Pointer Greedy Approach** minimizes boats efficiently.  \n",
    "✅ **No need for additional data structures**, making it space-efficient.  \n",
    "\n",
    "Hope this helps! 🚢🔥\n"
   ]
  },
  {
   "cell_type": "code",
   "execution_count": 1,
   "metadata": {},
   "outputs": [
    {
     "name": "stdout",
     "output_type": "stream",
     "text": [
      "3\n"
     ]
    }
   ],
   "source": [
    "from typing import List\n",
    "\n",
    "def numRescueBoats(people: List[int], limit: int) -> int:\n",
    "        people.sort() # O(nlogn)\n",
    "        boats = 0\n",
    "        l, r = 0, len(people) - 1\n",
    "\n",
    "        while l <= r:\n",
    "            remain = limit - people[r]\n",
    "            r -= 1\n",
    "            boats += 1\n",
    "            if l <= r and remain >= people[l]:\n",
    "                l += 1\n",
    "        return boats\n",
    "\n",
    "print(numRescueBoats(people = [3,2,2,1], limit = 3))"
   ]
  },
  {
   "cell_type": "markdown",
   "metadata": {},
   "source": [
    "# 🔀 LeetCode Problem: Merge Strings Alternately  \n",
    "\n",
    "- **Problem Link:** [Merge Strings Alternately](https://leetcode.com/problems/merge-strings-alternately/)  \n",
    "- **My Submission Link:** [My Solution](https://leetcode.com/problems/merge-strings-alternately/submissions/1571811098/)  \n",
    "\n",
    "## 📝 Problem Statement  \n",
    "You are given two strings `word1` and `word2`. You need to **merge them alternately**, meaning:  \n",
    "- Take the first character of `word1`, then the first character of `word2`, then the second character of `word1`, then the second character of `word2`, and so on.  \n",
    "- If one string is longer, append the remaining characters of the longer string at the end.  \n",
    "\n",
    "### **🔹 Constraints:**  \n",
    "- `1 <= word1.length, word2.length <= 100`  \n",
    "- `word1` and `word2` contain only lowercase English letters.  \n",
    "\n",
    "---\n",
    "\n",
    "## 🧠 Approach: Two-Pointer Technique  \n",
    "\n",
    "### **🔹 Idea**\n",
    "1. Initialize an empty **result string** (or list for efficiency).  \n",
    "2. Use **two pointers (`i` and `j`)** to track positions in `word1` and `word2`.  \n",
    "3. **Iterate through both words** and append characters alternately.  \n",
    "4. If one word is longer, **append the remaining characters** of the longer word at the end.  \n",
    "5. **Return the merged string**.  \n",
    "\n",
    "---\n",
    "\n",
    "## **📊 Complexity Summary Table**\n",
    "| Complexity Type | Analysis |\n",
    "|----------------|----------|\n",
    "| **Time Complexity** | `O(n + m)` → Iterates through both strings once |\n",
    "| **Space Complexity** | `O(n + m)` → Stores the merged string |\n",
    "\n",
    "---\n",
    "\n",
    "### **🚀 Key Takeaways**\n",
    "✅ **Two-pointer approach** ensures an optimal `O(n + m)` time complexity.  \n",
    "✅ **Efficient string concatenation** using a list avoids unnecessary overhead.  \n",
    "✅ **Simple and clean implementation** makes this problem easy to solve.  \n",
    "\n",
    "Hope this helps! 🔀🔥  \n"
   ]
  },
  {
   "cell_type": "code",
   "execution_count": 3,
   "metadata": {},
   "outputs": [
    {
     "name": "stdout",
     "output_type": "stream",
     "text": [
      "apbqcr\n"
     ]
    }
   ],
   "source": [
    "def mergeAlternately(word1: str, word2: str) -> str:\n",
    "        res=[]\n",
    "        i, j = 0, 0\n",
    "        while i < len(word1) and j < len(word2):\n",
    "            res.append(word1[i])\n",
    "            res.append(word2[j])\n",
    "            i += 1\n",
    "            j += 1\n",
    "        res.append(word1[i:])\n",
    "        res.append(word2[j:])\n",
    "\n",
    "        return ''.join(res)\n",
    "\n",
    "\n",
    "print(mergeAlternately(word1 = \"abc\", word2 = \"pqr\"))"
   ]
  },
  {
   "cell_type": "markdown",
   "metadata": {},
   "source": [
    "# 😊 LeetCode Problem: Happy Number  \n",
    "\n",
    "- **Problem Link:** [Happy Number](https://leetcode.com/problems/happy-number/)  \n",
    "- **My Submission Link:** [My Solution](https://leetcode.com/problems/happy-number/submissions/1571821507/)  \n",
    "\n",
    "## 📝 Problem Statement  \n",
    "A number is called **happy** if repeatedly replacing it with the sum of the squares of its digits eventually results in `1`.  \n",
    "If the process results in an infinite cycle, the number is **not happy**.  \n",
    "\n",
    "### **🔹 Constraints:**  \n",
    "- `1 <= n <= 2³¹ - 1`  \n",
    "\n",
    "---\n",
    "\n",
    "## 🧠 Approach: Floyd's Cycle Detection (Tortoise and Hare)  \n",
    "\n",
    "### **🔹 Idea**\n",
    "1. **Iterate** and replace `n` with the sum of the squares of its digits.  \n",
    "2. If `n` becomes `1`, return `True` (it’s a happy number).  \n",
    "3. Use a **set** to track seen numbers to detect cycles.  \n",
    "4. If a number **repeats**, return `False` (cycle detected).  \n",
    "\n",
    "---\n",
    "\n",
    "## **📊 Complexity Summary Table**\n",
    "| Complexity Type | Analysis |\n",
    "|----------------|----------|\n",
    "| **Time Complexity** | `O(log n)` → At most `log n` iterations before a cycle or reaching `1` |\n",
    "| **Space Complexity** | `O(log n)` → Stores past numbers in a set (worst case) |\n",
    "\n",
    "---\n",
    "\n",
    "### **🚀 Key Takeaways**\n",
    "✅ **Floyd’s Cycle Detection** ensures efficient cycle detection.  \n",
    "✅ **Using a set** prevents infinite loops.  \n",
    "✅ **Mathematical insights** help in optimizing the approach.  \n",
    "\n",
    "Happy coding! 😊🔥  "
   ]
  },
  {
   "cell_type": "code",
   "execution_count": 4,
   "metadata": {},
   "outputs": [
    {
     "name": "stdout",
     "output_type": "stream",
     "text": [
      "True\n"
     ]
    }
   ],
   "source": [
    "def isHappy(n: int) -> bool:\n",
    "        seen = set()\n",
    "        while n != 1 and n not in seen:\n",
    "            seen.add(n)\n",
    "            n = sum(int(digit) ** 2 for digit in str(n))\n",
    "\n",
    "        return n == 1\n",
    "\n",
    "print(isHappy(19))"
   ]
  }
 ],
 "metadata": {
  "kernelspec": {
   "display_name": "Python 3",
   "language": "python",
   "name": "python3"
  },
  "language_info": {
   "codemirror_mode": {
    "name": "ipython",
    "version": 3
   },
   "file_extension": ".py",
   "mimetype": "text/x-python",
   "name": "python",
   "nbconvert_exporter": "python",
   "pygments_lexer": "ipython3",
   "version": "3.12.9"
  }
 },
 "nbformat": 4,
 "nbformat_minor": 2
}
