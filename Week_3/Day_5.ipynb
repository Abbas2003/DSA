{
 "cells": [
  {
   "cell_type": "markdown",
   "metadata": {},
   "source": [
    "# Merge Sorted Array\n",
    "\n",
    "## Submission:\n",
    "🔗 **LeetCode Problem:** [Merge Sorted Array](https://leetcode.com/problems/merge-sorted-array/)  \n",
    "🔗 **My Submission:** [View Submission](https://leetcode.com/problems/merge-sorted-array/submissions/1579578351/)\n",
    "\n",
    "## Problem Statement\n",
    "You are given two integer arrays `nums1` and `nums2`, sorted in non-decreasing order, and two integers `m` and `n`, representing the number of elements in `nums1` and `nums2` respectively.\n",
    "\n",
    "Merge `nums1` and `nums2` into a single array sorted in non-decreasing order.\n",
    "\n",
    "The final sorted array should not be returned by the function, but instead be stored inside the array `nums1`. To accommodate this, `nums1` has a length of `m + n`, where the first `m` elements denote the elements that should be merged, and the last `n` elements are set to `0` and should be ignored. `nums2` has a length of `n`.\n",
    "\n",
    "## Constraints:\n",
    "- `nums1.length == m + n`\n",
    "- `nums2.length == n`\n",
    "- `0 <= m, n <= 200`\n",
    "- `1 <= m + n <= 200`\n",
    "- `-10^9 <= nums1[i], nums2[j] <= 10^9`\n",
    "\n",
    "\n",
    "## Time & Space Complexity:\n",
    "- **Time Complexity:** `O(m + n)` since we merge both arrays efficiently in a single pass.\n",
    "- **Space Complexity:** `O(1)` as we modify `nums1` in place without using extra space.\n",
    "\n",
    "---"
   ]
  },
  {
   "cell_type": "code",
   "execution_count": 3,
   "metadata": {},
   "outputs": [
    {
     "name": "stdout",
     "output_type": "stream",
     "text": [
      "[1, 2, 2, 3, 5, 6]\n"
     ]
    }
   ],
   "source": [
    "from typing import List\n",
    "\n",
    "def merge(nums1: List[int], m: int, nums2: List[int], n: int) -> None:\n",
    "        \"\"\"\n",
    "        Do not return anything, modify nums1 in-place instead.\n",
    "        \"\"\"\n",
    "        x, y = m - 1, n - 1\n",
    "         \n",
    "        for z in range(m + n - 1, -1, -1):\n",
    "            if x < 0:\n",
    "                nums1[z] = nums2[y]\n",
    "                y -= 1\n",
    "            elif y < 0:\n",
    "                break\n",
    "            elif nums1[x] > nums2[y]:\n",
    "                nums1[z] = nums1[x]\n",
    "                x -= 1\n",
    "            else:\n",
    "                nums1[z] = nums2[y]\n",
    "                y -= 1\n",
    "\n",
    "        print(nums1)\n",
    "\n",
    "merge([1,2,3,0,0,0], 3, [2,5,6], 3)"
   ]
  },
  {
   "cell_type": "markdown",
   "metadata": {},
   "source": [
    "# Sort Colors\n",
    "\n",
    "## Submission:\n",
    "🔗 **LeetCode Problem:** [Sort Colors](https://leetcode.com/problems/sort-colors/)  \n",
    "🔗 **My Submission:** [View Submission](https://leetcode.com/problems/sort-colors/submissions/1579601826/)\n",
    "\n",
    "## Problem Statement\n",
    "Given an array `nums` with `n` objects colored red, white, or blue, sort them **in-place** so that objects of the same color are adjacent, with the colors in the order **red, white, and blue**.\n",
    "\n",
    "We will use the integers `0`, `1`, and `2` to represent the color **red, white, and blue**, respectively.\n",
    "\n",
    "You must solve this problem **without using the sort function**.\n",
    "\n",
    "## Constraints:\n",
    "- `n == nums.length`\n",
    "- `1 <= n <= 300`\n",
    "- `nums[i]` is `0`, `1`, or `2`.\n",
    "\n",
    "## Follow-up:\n",
    "- Can you come up with a **one-pass algorithm** using only **constant extra space**?\n",
    "\n",
    "## Time & Space Complexity:\n",
    "- **Time Complexity:** `O(n)` since we iterate through the array only once.\n",
    "- **Space Complexity:** `O(1)` as we do in-place sorting without extra space."
   ]
  },
  {
   "cell_type": "code",
   "execution_count": 4,
   "metadata": {},
   "outputs": [
    {
     "name": "stdout",
     "output_type": "stream",
     "text": [
      "[0, 0, 1, 1, 2, 2]\n"
     ]
    }
   ],
   "source": [
    "from typing import List\n",
    "\n",
    "\n",
    "def sortColors(nums: List[int]) -> None:\n",
    "        \"\"\"\n",
    "        Do not return anything, modify nums in-place instead.\n",
    "        \"\"\"\n",
    "        counts = [0, 0, 0]\n",
    "\n",
    "        for color in nums:\n",
    "            counts[color] += 1\n",
    "\n",
    "        R, W, B = counts\n",
    "\n",
    "        nums[:R] = [0] * R\n",
    "        nums[R:R+W] = [1] * W\n",
    "        nums[R+W:] = [2] * B\n",
    "        print(nums)\n",
    "\n",
    "sortColors([2,0,2,1,1,0])"
   ]
  }
 ],
 "metadata": {
  "kernelspec": {
   "display_name": "Python 3",
   "language": "python",
   "name": "python3"
  },
  "language_info": {
   "codemirror_mode": {
    "name": "ipython",
    "version": 3
   },
   "file_extension": ".py",
   "mimetype": "text/x-python",
   "name": "python",
   "nbconvert_exporter": "python",
   "pygments_lexer": "ipython3",
   "version": "3.12.9"
  }
 },
 "nbformat": 4,
 "nbformat_minor": 2
}
