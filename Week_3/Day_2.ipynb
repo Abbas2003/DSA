{
 "cells": [
  {
   "cell_type": "markdown",
   "metadata": {},
   "source": [
    "# 🏆 LeetCode Problem: 3Sum\n",
    "\n",
    "- **Problem Link**: [3Sum - LeetCode](https://leetcode.com/problems/3sum/)\n",
    "- **My Submission**: [View My Solution](https://leetcode.com/problems/3sum/submissions/1570719704/)\n",
    "\n",
    "## 📝 Problem Statement  \n",
    "Given an integer array `nums`, return all the **unique triplets** `[nums[i], nums[j], nums[k]]` such that:  \n",
    "1. `i != j != k`  \n",
    "2. `nums[i] + nums[j] + nums[k] == 0`  \n",
    "\n",
    "\n",
    "## **🧠 Approach: Two-Pointer Technique**\n",
    "### **🔹 Idea**\n",
    "1. **Sort the array** to handle duplicates easily.  \n",
    "2. **Fix one element** and apply the **two-pointer technique** to find pairs that sum to the negative of the fixed element.  \n",
    "3. **Move pointers smartly** to skip duplicate values and ensure unique triplets.  \n",
    "\n",
    "---\n",
    "\n",
    "## **📊 Complexity Summary Table**\n",
    "| Complexity Type | Analysis |\n",
    "|----------------|----------|\n",
    "| **Time Complexity** | `O(n^2)` → Sorting takes `O(n log n)`, and two-pointer search runs in `O(n^2)`. |\n",
    "| **Space Complexity** | `O(1)` → No extra space used, apart from the output list. |\n",
    "\n",
    "---\n",
    "\n",
    "### 🚀 **Key Takeaways**\n",
    "- Sorting helps **eliminate duplicate triplets efficiently**.\n",
    "- The **two-pointer approach** reduces complexity compared to brute-force `O(n^3)`.\n",
    "- **Optimized handling of duplicates** improves performance."
   ]
  },
  {
   "cell_type": "code",
   "execution_count": 2,
   "metadata": {},
   "outputs": [
    {
     "name": "stdout",
     "output_type": "stream",
     "text": [
      "[[-1, -1, 2], [-1, 0, 1]]\n"
     ]
    }
   ],
   "source": [
    "from typing import List\n",
    "\n",
    "def threeSum(nums: List[int]) -> List[List[int]]:\n",
    "        res = []\n",
    "        nums.sort()\n",
    "        for i,a in enumerate(nums):\n",
    "            if i>0 and a == nums[i-1]:\n",
    "                continue\n",
    "            \n",
    "            l,r = i+1, len(nums)-1\n",
    "            while l<r:\n",
    "                threesum = a + nums[l] + nums[r]\n",
    "\n",
    "                if threesum > 0:\n",
    "                    r-=1\n",
    "\n",
    "                elif threesum < 0:\n",
    "                    l+=1\n",
    "\n",
    "                else:\n",
    "                    res.append([a, nums[l], nums[r]])\n",
    "                    l+=1\n",
    "\n",
    "                    while nums[l] == nums[l-1] and l<r:\n",
    "                        l+=1\n",
    "            \n",
    "        return res\n",
    "\n",
    "\n",
    "print(threeSum([-1,0,1,2,-1,-4]))"
   ]
  },
  {
   "cell_type": "markdown",
   "metadata": {},
   "source": [
    "# 🏆 LeetCode Problem: Faulty Keyboard  \n",
    "\n",
    "- **Problem Link:** [Faulty Keyboard](https://leetcode.com/problems/faulty-keyboard/)  \n",
    "- **My Submission:** [View Submission](https://leetcode.com/problems/faulty-keyboard/submissions/1570728735/)  \n",
    "\n",
    "## 📝 Problem Statement  \n",
    "You are given a string `s` representing a text typed on a faulty keyboard. The keyboard functions as follows:  \n",
    "1. Typing a letter appends it to the output.  \n",
    "2. Typing `'i'` **reverses** the entire string typed so far.  \n",
    "\n",
    "**Return the final output string after processing all characters.**  \n",
    "\n",
    "---\n",
    "\n",
    "## 🧠 **Approach: Using a List to Store Characters**  \n",
    "1. **Use a list (`arr`)** to store the characters dynamically.  \n",
    "2. **Traverse the string `s`**, processing characters one by one:  \n",
    "   - If the character is `'i'`, reverse `arr`.  \n",
    "   - Otherwise, append the character to `arr`.  \n",
    "3. **Convert the list back to a string** using `\"\".join(arr)`.  \n",
    "\n",
    "---\n",
    "\n",
    "## **📊 Complexity Summary Table**  \n",
    "\n",
    "| Complexity Type   | Analysis |\n",
    "|------------------|----------|\n",
    "| **Time Complexity** | `O(n^2)` → Due to multiple reversals when encountering `'i'` |\n",
    "| **Space Complexity** | `O(n)` → To store the characters in the list |\n",
    "\n",
    "---\n",
    "\n",
    "This approach efficiently processes the string while handling the faulty keyboard logic. 🚀"
   ]
  },
  {
   "cell_type": "code",
   "execution_count": null,
   "metadata": {},
   "outputs": [
    {
     "name": "stdout",
     "output_type": "stream",
     "text": [
      "rtsng\n"
     ]
    }
   ],
   "source": [
    "def finalString(s: str) -> str:\n",
    "        arr=[]\n",
    "        for i in s:\n",
    "            if i != \"i\":\n",
    "                arr.append(i)\n",
    "            else: \n",
    "                arr.reverse()\n",
    "        return \"\".join(arr)\n",
    "\n",
    "print(finalString(\"string\"))"
   ]
  }
 ],
 "metadata": {
  "kernelspec": {
   "display_name": "Python 3",
   "language": "python",
   "name": "python3"
  },
  "language_info": {
   "codemirror_mode": {
    "name": "ipython",
    "version": 3
   },
   "file_extension": ".py",
   "mimetype": "text/x-python",
   "name": "python",
   "nbconvert_exporter": "python",
   "pygments_lexer": "ipython3",
   "version": "3.12.9"
  }
 },
 "nbformat": 4,
 "nbformat_minor": 2
}
