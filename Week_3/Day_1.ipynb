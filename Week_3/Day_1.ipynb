{
 "cells": [
  {
   "cell_type": "markdown",
   "metadata": {},
   "source": [
    "# 🏆 LeetCode Problem: Reverse Vowels of a String\n",
    "\n",
    "- **Problem Link:** [Reverse Vowels of a String](https://leetcode.com/problems/reverse-vowels-of-a-string/)\n",
    "- **My Submission:** [Reverse Vowels of a String](https://leetcode.com/problems/reverse-vowels-of-a-string/submissions/1569329218/)\n",
    "\n",
    "## 📝 Problem Statement\n",
    "Given a string `s`, reverse only all the vowels in the string and return it.\n",
    "\n",
    "🔹 **Constraints:**\n",
    "- `1 <= s.length <= 3 * 10^5`\n",
    "- `s` consists of **printable ASCII characters**.\n",
    "\n",
    "---\n",
    "\n",
    "## 🧠 Approach: Two-Pointer Technique\n",
    "\n",
    "### **🔹 Idea**\n",
    "1. **Use two pointers**:\n",
    "   - One starts from the **beginning** (`left`).\n",
    "   - One starts from the **end** (`right`).\n",
    "2. Move pointers towards the center while swapping **only vowels**.\n",
    "3. Skip consonants and only swap vowels when both pointers find them.\n",
    "\n",
    "---\n",
    "\n",
    "## **📊 Complexity Summary Table**\n",
    "| Complexity Type | Analysis |\n",
    "|----------------|----------|\n",
    "| **Time Complexity** | `O(n)` → We traverse the string once, swapping vowels. |\n",
    "| **Space Complexity** | `O(1)` → The swap is done **in place**, using only two extra variables. |\n",
    "\n",
    "---\n",
    "\n",
    "### ✅ **Key Takeaways**\n",
    "- Efficient `O(n)` approach using **two pointers**.\n",
    "- No extra space required (**O(1) memory usage**).\n",
    "- Works well for large strings (`s.length` up to `300000`).\n",
    "\n",
    "Would love to hear your thoughts or optimizations! 🚀\n",
    "```"
   ]
  },
  {
   "cell_type": "code",
   "execution_count": 2,
   "metadata": {},
   "outputs": [
    {
     "name": "stdout",
     "output_type": "stream",
     "text": [
      "holle\n"
     ]
    }
   ],
   "source": [
    "def reverseVowels(s: str) -> str:\n",
    "        vowels = set('aeiouAEIOU')\n",
    "        l=0\n",
    "        r=len(s)-1\n",
    "        arr=list(s)\n",
    "        while l<r:\n",
    "            if arr[l] not in vowels:\n",
    "                l+=1\n",
    "            elif arr[r] not in vowels:\n",
    "                r-=1\n",
    "            else:\n",
    "                arr[l], arr[r] = arr[r], arr[l]\n",
    "\n",
    "                l+=1\n",
    "                r-=1\n",
    "        res = \"\".join(arr)\n",
    "        return res\n",
    "\n",
    "print(reverseVowels(\"hello\")) "
   ]
  },
  {
   "cell_type": "markdown",
   "metadata": {},
   "source": [
    "# 🏆 LeetCode Problem: Longest Palindromic Substring\n",
    "\n",
    "- **Problem Link:** [Longest Palindromic Substring](https://leetcode.com/problems/longest-palindromic-substring/)\n",
    "- **My Submission:** [Longest Palindromic Substring](https://leetcode.com/problems/longest-palindromic-substring/submissions/1569544179/)\n",
    "\n",
    "## 📝 Problem Statement\n",
    "Given a string `s`, return the **longest palindromic substring** in `s`.\n",
    "\n",
    "🔹 **Constraints:**\n",
    "- `1 <= s.length <= 1000`\n",
    "- `s` consists of only **English letters**.\n",
    "\n",
    "---\n",
    "\n",
    "## 🧠 Approach: Expand Around Center  \n",
    "\n",
    "### **🔹 Idea**\n",
    "1. A **palindrome expands symmetrically** from its center.\n",
    "2. For each character (or pair of characters) in `s`, **expand outward** while the substring remains a palindrome.\n",
    "3. Keep track of the longest palindrome found.\n",
    "\n",
    "---\n",
    "\n",
    "## **📊 Complexity Summary Table**\n",
    "| Complexity Type | Analysis |\n",
    "|----------------|----------|\n",
    "| **Time Complexity** | `O(n^2)` → Expanding from each character takes `O(n)`, and we repeat this `O(n)` times. |\n",
    "| **Space Complexity** | `O(1)` → No extra space used apart from a few variables. |\n",
    "\n",
    "---\n",
    "\n",
    "### ✅ **Key Takeaways**\n",
    "- **Expanding Around Center** is an optimal approach for `O(n²)`.\n",
    "- There exists a **Manacher’s Algorithm** that solves this in `O(n)`.\n",
    "- Works well for **moderate input sizes** (`s.length ≤ 1000`).\n",
    "\n",
    "Would love to hear if you have any optimizations! 🚀\n",
    "```"
   ]
  },
  {
   "cell_type": "code",
   "execution_count": 3,
   "metadata": {},
   "outputs": [
    {
     "name": "stdout",
     "output_type": "stream",
     "text": [
      "bab\n"
     ]
    }
   ],
   "source": [
    "def longestPalindrome(s: str) -> str:\n",
    "        output=\"\"\n",
    "        outputLen=0\n",
    "\n",
    "        for i in range(len(s)):\n",
    "            # Odd Case\n",
    "            l,r = i,i\n",
    "            while l>=0 and r<len(s) and s[l]==s[r]:\n",
    "                if (r-l+1) > outputLen:\n",
    "                    output=s[l:r+1]\n",
    "                    outputLen=r-l+1\n",
    "                l-=1\n",
    "                r+=1\n",
    "\n",
    "            # Even Case\n",
    "            l,r = i,i+1\n",
    "            while l>=0 and r<len(s) and s[l] == s[r]:\n",
    "                if (r-l+1)>outputLen:\n",
    "                    output=s[l:r+1]\n",
    "                    outputLen=r-l+1\n",
    "                l-=1\n",
    "                r+=1\n",
    "\n",
    "        return output\n",
    "\n",
    "print(longestPalindrome(\"babad\"))"
   ]
  },
  {
   "cell_type": "markdown",
   "metadata": {},
   "source": [
    "# 🏆 LeetCode Problem: Valid Palindrome\n",
    "\n",
    "- **Problem Link:** [Valid Palindrome](https://leetcode.com/problems/valid-palindrome/)\n",
    "- **My Submission Link:** [My Solution](https://leetcode.com/problems/valid-palindrome/submissions/1569561260/)\n",
    "\n",
    "## 📝 Problem Statement\n",
    "A phrase is a **palindrome** if it reads the same forward and backward, ignoring non-alphanumeric characters and case differences.  \n",
    "Given a string `s`, return `true` if it is a palindrome, and `false` otherwise.\n",
    "\n",
    "🔹 **Constraints:**\n",
    "- `1 <= s.length <= 2 * 10^5`\n",
    "- `s` consists only of printable ASCII characters.\n",
    "\n",
    "---\n",
    "\n",
    "## 🧠 Approach: Two-Pointer Technique  \n",
    "\n",
    "### **🔹 Idea**\n",
    "1. Use **two pointers** (`L` at start and `R` at end).\n",
    "2. **Skip non-alphanumeric characters** from both ends.\n",
    "3. **Compare characters in lowercase**.\n",
    "4. If any mismatch occurs, return `False`.\n",
    "5. If `L` meets `R`, return `True`.\n",
    "\n",
    "---\n",
    "\n",
    "## **📊 Complexity Summary Table**\n",
    "| Complexity Type | Analysis |\n",
    "|----------------|----------|\n",
    "| **Time Complexity** | `O(n)` → We traverse the string once with two pointers |\n",
    "| **Space Complexity** | `O(1)` → We only use a few extra variables |\n",
    "\n",
    "---\n",
    "\n",
    "This approach ensures an efficient solution to the problem while keeping memory usage minimal. 🚀\n"
   ]
  },
  {
   "cell_type": "code",
   "execution_count": 4,
   "metadata": {},
   "outputs": [
    {
     "name": "stdout",
     "output_type": "stream",
     "text": [
      "True\n"
     ]
    }
   ],
   "source": [
    "def isPalindrome(s: str) -> bool:\n",
    "        n = len(s)\n",
    "        L = 0\n",
    "        R = n - 1\n",
    "\n",
    "        while L < R:\n",
    "            if not s[L].isalnum():\n",
    "                L += 1\n",
    "                continue\n",
    "\n",
    "            if not s[R].isalnum():\n",
    "                R -= 1\n",
    "                continue\n",
    "\n",
    "            if s[L].lower() != s[R].lower():\n",
    "                return False\n",
    "\n",
    "            L += 1\n",
    "            R -= 1\n",
    "\n",
    "        return True\n",
    "\n",
    "print(isPalindrome(\"A man, a plan, a canal: Panama\"))"
   ]
  }
 ],
 "metadata": {
  "kernelspec": {
   "display_name": "Python 3",
   "language": "python",
   "name": "python3"
  },
  "language_info": {
   "codemirror_mode": {
    "name": "ipython",
    "version": 3
   },
   "file_extension": ".py",
   "mimetype": "text/x-python",
   "name": "python",
   "nbconvert_exporter": "python",
   "pygments_lexer": "ipython3",
   "version": "3.12.9"
  }
 },
 "nbformat": 4,
 "nbformat_minor": 2
}
