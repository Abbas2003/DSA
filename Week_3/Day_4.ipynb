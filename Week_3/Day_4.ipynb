{
 "cells": [
  {
   "cell_type": "markdown",
   "metadata": {},
   "source": [
    "# Way Too Long Words\n",
    "\n",
    "## Problem Statement\n",
    "\n",
    "Sometimes some words like \"localization\" or \"internationalization\" are so long that writing them many times in one text is quite tiresome.\n",
    "\n",
    "A word is considered **too long** if its length is **strictly more than 10 characters**. All too long words should be replaced with a **special abbreviation**.\n",
    "\n",
    "### Abbreviation Rule:\n",
    "- Take the **first** and **last** letter of the word.\n",
    "- Place the **number of letters between them** in the middle.\n",
    "- The number must be in decimal format with no leading zeros.\n",
    "\n",
    "For example:\n",
    "- `\"localization\"` → `\"l10n\"`\n",
    "- `\"internationalization\"` → `\"i18n\"`\n",
    "\n",
    "### Input\n",
    "- The first line contains an integer `n` (`1 ≤ n ≤ 100`), the number of words.\n",
    "- Each of the following `n` lines contains one word.\n",
    "- Words consist of **lowercase Latin letters** and have lengths between `1` and `100`.\n",
    "\n",
    "### Output\n",
    "- Print `n` lines where each line contains either:\n",
    "  - The abbreviated word (if too long).\n",
    "  - The word itself (if length is `≤ 10`).\n",
    "\n",
    "---\n",
    "\n",
    "## Example\n",
    "\n",
    "### Input\n",
    "```\n",
    "4\n",
    "word\n",
    "localization\n",
    "internationalization\n",
    "hi\n",
    "```\n",
    "\n",
    "### Output\n",
    "```\n",
    "word\n",
    "l10n\n",
    "i18n\n",
    "hi\n",
    "```\n",
    "\n",
    "---\n",
    "\n",
    "## Solution Approach\n",
    "\n",
    "1. **Read the number of words** `n`.\n",
    "2. **Process each word**:\n",
    "   - If the word **length is ≤ 10**, print it as is.\n",
    "   - Otherwise, transform it using the abbreviation rule and print the result.\n",
    "\n",
    "---\n",
    "\n",
    "## Time and Space Complexity\n",
    "\n",
    "| Operation | Complexity |\n",
    "|-----------|------------|\n",
    "| Checking word length | **O(1)** |\n",
    "| Abbreviating a word | **O(1)** |\n",
    "| Looping through `n` words | **O(n)** |\n",
    "| Overall Time Complexity | **O(n)** |\n",
    "\n",
    "- **Space Complexity:** **O(n)** (since we store `n` words as input).\n",
    "\n",
    "---\n",
    "\n",
    "This solution efficiently handles the problem within the given constraints. 🚀\n",
    "```"
   ]
  },
  {
   "cell_type": "code",
   "execution_count": 2,
   "metadata": {},
   "outputs": [
    {
     "name": "stdout",
     "output_type": "stream",
     "text": [
      "word\n",
      "l10n\n",
      "i18n\n",
      "p43s\n"
     ]
    }
   ],
   "source": [
    "n = int(input())\n",
    "\n",
    "for _ in range(n):\n",
    "    string = input()\n",
    "    if len(string) < 11:\n",
    "        # Do nothing \n",
    "        print(string)\n",
    "    else:\n",
    "        print(string[0] + str(len(string)-2) + string[-1])"
   ]
  },
  {
   "cell_type": "markdown",
   "metadata": {},
   "source": []
  },
  {
   "cell_type": "code",
   "execution_count": null,
   "metadata": {},
   "outputs": [
    {
     "name": "stdout",
     "output_type": "stream",
     "text": [
      "[0, 1, 1]\n",
      "2\n",
      "[1, 1, 1]\n",
      "3\n",
      "[0, 0, 0]\n",
      "0\n",
      "2\n"
     ]
    }
   ],
   "source": [
    "n = int(input()) # number of problems in the contest\n",
    "ans = 0\n",
    "\n",
    "for _ in range(n):\n",
    "    lst = list(map(int, input().rstrip().split()))\n",
    "    print(lst)\n",
    "    tot = sum(lst)\n",
    "    if tot >= 2:\n",
    "        ans += 1\n",
    "\n",
    "print(ans)\n",
    "\n",
    "\n"
   ]
  }
 ],
 "metadata": {
  "kernelspec": {
   "display_name": "Python 3",
   "language": "python",
   "name": "python3"
  },
  "language_info": {
   "codemirror_mode": {
    "name": "ipython",
    "version": 3
   },
   "file_extension": ".py",
   "mimetype": "text/x-python",
   "name": "python",
   "nbconvert_exporter": "python",
   "pygments_lexer": "ipython3",
   "version": "3.12.9"
  }
 },
 "nbformat": 4,
 "nbformat_minor": 2
}
